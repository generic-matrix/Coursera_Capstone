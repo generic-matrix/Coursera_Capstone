{
  "nbformat": 4,
  "nbformat_minor": 0,
  "metadata": {
    "colab": {
      "name": "Best_zone_for_recreation_IBM_capstone_project.ipynb",
      "provenance": [],
      "collapsed_sections": []
    },
    "kernelspec": {
      "name": "python3",
      "display_name": "Python 3"
    }
  },
  "cells": [
    {
      "cell_type": "markdown",
      "metadata": {
        "id": "6yrpaXqOgP1E",
        "colab_type": "text"
      },
      "source": [
        "We **need to find the best zone for recreation in a city** .So the travellers get all the things they need nearby.\n",
        "\n",
        "We are besically using follium maps and clustering methods with decision trees with special focus on latency.\n"
      ]
    },
    {
      "cell_type": "code",
      "metadata": {
        "id": "qOmYW7QokVv9",
        "colab_type": "code",
        "colab": {}
      },
      "source": [
        "import requests\n",
        "import json\n",
        "import pandas as pd\n",
        "import folium\n",
        "from folium.plugins import MarkerCluster\n",
        "from sklearn.cluster import KMeans \n",
        "from sklearn.preprocessing import LabelEncoder\n",
        "from scipy.spatial.distance import cdist\n",
        "import numpy as np"
      ],
      "execution_count": 0,
      "outputs": []
    },
    {
      "cell_type": "markdown",
      "metadata": {
        "id": "jg3Jzpgaf3K2",
        "colab_type": "text"
      },
      "source": [
        " ## **Define your Foursquare credentials here**"
      ]
    },
    {
      "cell_type": "code",
      "metadata": {
        "id": "tNdSYZ4ika25",
        "colab_type": "code",
        "colab": {}
      },
      "source": [
        "CLIENT_ID=\"LIQI3OWFMIVHIADQEAFCHAT55AW5DSOJU4AIXTBYVFDKN04H\"\n",
        "CLIENT_SECRET=\"G4JDBVDY5MUQZBUW4WLSADMJBTWD3LRVUSU5ZXFJPJL1JQVX\"\n",
        "#Delhi\n",
        "LAT_LNG=\"28.644800,77.216721\""
      ],
      "execution_count": 0,
      "outputs": []
    },
    {
      "cell_type": "markdown",
      "metadata": {
        "id": "HIxdS44VhiGn",
        "colab_type": "text"
      },
      "source": [
        "## **To get venues**"
      ]
    },
    {
      "cell_type": "code",
      "metadata": {
        "id": "ZtMsuTxphhcG",
        "colab_type": "code",
        "colab": {}
      },
      "source": [
        "def get_venues(LAT_LNG,CLIENT_ID,CLIENT_SECRET):\n",
        "  res = requests.get(\"https://api.foursquare.com/v2/venues/search?ll=\"+LAT_LNG+\"&client_id=\"+CLIENT_ID+\"&client_secret=\"+CLIENT_SECRET+\"&v=20200510\")\n",
        "  if(res.status_code==200):\n",
        "    return res.content\n",
        "  else:\n",
        "    return None"
      ],
      "execution_count": 0,
      "outputs": []
    },
    {
      "cell_type": "markdown",
      "metadata": {
        "id": "5o5yMaOwn1eR",
        "colab_type": "text"
      },
      "source": [
        "## **Parse the data into JSON and convert it into the df**"
      ]
    },
    {
      "cell_type": "markdown",
      "metadata": {
        "id": "AHhyPqvhlIVA",
        "colab_type": "text"
      },
      "source": [
        "****"
      ]
    },
    {
      "cell_type": "code",
      "metadata": {
        "id": "z0XiWGHQf7s9",
        "colab_type": "code",
        "colab": {
          "base_uri": "https://localhost:8080/",
          "height": 204
        },
        "outputId": "c0e4e798-dd04-432f-a455-c4edcbfc36f7"
      },
      "source": [
        "raw=get_venues(LAT_LNG,CLIENT_ID,CLIENT_SECRET)\n",
        "data=json.loads(raw)[\"response\"][\"venues\"]\n",
        "res_df=pd.read_json(json.dumps(data))\n",
        "res_df.head()"
      ],
      "execution_count": 281,
      "outputs": [
        {
          "output_type": "execute_result",
          "data": {
            "text/html": [
              "<div>\n",
              "<style scoped>\n",
              "    .dataframe tbody tr th:only-of-type {\n",
              "        vertical-align: middle;\n",
              "    }\n",
              "\n",
              "    .dataframe tbody tr th {\n",
              "        vertical-align: top;\n",
              "    }\n",
              "\n",
              "    .dataframe thead th {\n",
              "        text-align: right;\n",
              "    }\n",
              "</style>\n",
              "<table border=\"1\" class=\"dataframe\">\n",
              "  <thead>\n",
              "    <tr style=\"text-align: right;\">\n",
              "      <th></th>\n",
              "      <th>id</th>\n",
              "      <th>name</th>\n",
              "      <th>location</th>\n",
              "      <th>categories</th>\n",
              "      <th>referralId</th>\n",
              "      <th>hasPerk</th>\n",
              "      <th>venuePage</th>\n",
              "    </tr>\n",
              "  </thead>\n",
              "  <tbody>\n",
              "    <tr>\n",
              "      <th>0</th>\n",
              "      <td>5df931d140c87e00088f2223</td>\n",
              "      <td>Hotel Ritz</td>\n",
              "      <td>{'address': '8567 Arakashan Road, Paharganj Be...</td>\n",
              "      <td>[{'id': '4bf58dd8d48988d1fa931735', 'name': 'H...</td>\n",
              "      <td>v-1587035444</td>\n",
              "      <td>False</td>\n",
              "      <td>NaN</td>\n",
              "    </tr>\n",
              "    <tr>\n",
              "      <th>1</th>\n",
              "      <td>548a6de3498ecb54da9adac2</td>\n",
              "      <td>Burger King</td>\n",
              "      <td>{'address': 'E8 Inner Circle', 'crossStreet': ...</td>\n",
              "      <td>[{'id': '4bf58dd8d48988d16e941735', 'name': 'F...</td>\n",
              "      <td>v-1587035444</td>\n",
              "      <td>False</td>\n",
              "      <td>NaN</td>\n",
              "    </tr>\n",
              "    <tr>\n",
              "      <th>2</th>\n",
              "      <td>52baa97011d25e5925f2a55a</td>\n",
              "      <td>Shiela Cinema</td>\n",
              "      <td>{'lat': 28.644815157515968, 'lng': 77.21690750...</td>\n",
              "      <td>[{'id': '4bf58dd8d48988d17f941735', 'name': 'M...</td>\n",
              "      <td>v-1587035444</td>\n",
              "      <td>False</td>\n",
              "      <td>NaN</td>\n",
              "    </tr>\n",
              "    <tr>\n",
              "      <th>3</th>\n",
              "      <td>4c16685f7fd00f47bf2efab6</td>\n",
              "      <td>New Delhi Railway Station (NDLS)</td>\n",
              "      <td>{'address': 'Paharganj-Ajmeri Gate', 'lat': 28...</td>\n",
              "      <td>[{'id': '4bf58dd8d48988d129951735', 'name': 'T...</td>\n",
              "      <td>v-1587035444</td>\n",
              "      <td>False</td>\n",
              "      <td>NaN</td>\n",
              "    </tr>\n",
              "    <tr>\n",
              "      <th>4</th>\n",
              "      <td>54f84ede498eae1662c04df0</td>\n",
              "      <td>The Prime Balaji Deluxe @ New Delhi Railway St...</td>\n",
              "      <td>{'address': '8574 Arakashan Road Pahar Ganj', ...</td>\n",
              "      <td>[{'id': '4bf58dd8d48988d1fa931735', 'name': 'H...</td>\n",
              "      <td>v-1587035444</td>\n",
              "      <td>False</td>\n",
              "      <td>NaN</td>\n",
              "    </tr>\n",
              "  </tbody>\n",
              "</table>\n",
              "</div>"
            ],
            "text/plain": [
              "                         id  ... venuePage\n",
              "0  5df931d140c87e00088f2223  ...       NaN\n",
              "1  548a6de3498ecb54da9adac2  ...       NaN\n",
              "2  52baa97011d25e5925f2a55a  ...       NaN\n",
              "3  4c16685f7fd00f47bf2efab6  ...       NaN\n",
              "4  54f84ede498eae1662c04df0  ...       NaN\n",
              "\n",
              "[5 rows x 7 columns]"
            ]
          },
          "metadata": {
            "tags": []
          },
          "execution_count": 281
        }
      ]
    },
    {
      "cell_type": "markdown",
      "metadata": {
        "id": "6VbqmxCtr7TN",
        "colab_type": "text"
      },
      "source": [
        " ## **Get the df and we need 4 attribues for clustering**\n",
        "\n",
        "\n",
        "1.   id\n",
        "2.   type\n",
        "3.   lat\n",
        "4.   lng\n",
        "\n",
        "We will use res_df for mapping our needs with the loc."
      ]
    },
    {
      "cell_type": "code",
      "metadata": {
        "id": "kkGK_IlZr7vO",
        "colab_type": "code",
        "colab": {
          "base_uri": "https://localhost:8080/",
          "height": 204
        },
        "outputId": "2852c1b8-5649-4bf2-bd7f-b56453885537"
      },
      "source": [
        "def get_id_lat_lng_type(base_df):\n",
        "  arr=[]\n",
        "  for index,row in base_df.iterrows():\n",
        "    group_df=row\n",
        "    if(len(group_df[\"categories\"])>0):\n",
        "      category=group_df[\"categories\"][0][\"name\"].lower()\n",
        "      id=group_df[\"id\"]\n",
        "      lat=group_df[\"location\"][\"lat\"]\n",
        "      lng=group_df[\"location\"][\"lng\"]\n",
        "      name=group_df[\"name\"]\n",
        "      arr.append({'id':id,\"name\":name,'category':category,'lat':lat,'lng':lng})\n",
        "  df=pd.read_json(json.dumps(arr))\n",
        "  return df\n",
        "processed_df=get_id_lat_lng_type(res_df)\n",
        "processed_df.head()"
      ],
      "execution_count": 282,
      "outputs": [
        {
          "output_type": "execute_result",
          "data": {
            "text/html": [
              "<div>\n",
              "<style scoped>\n",
              "    .dataframe tbody tr th:only-of-type {\n",
              "        vertical-align: middle;\n",
              "    }\n",
              "\n",
              "    .dataframe tbody tr th {\n",
              "        vertical-align: top;\n",
              "    }\n",
              "\n",
              "    .dataframe thead th {\n",
              "        text-align: right;\n",
              "    }\n",
              "</style>\n",
              "<table border=\"1\" class=\"dataframe\">\n",
              "  <thead>\n",
              "    <tr style=\"text-align: right;\">\n",
              "      <th></th>\n",
              "      <th>id</th>\n",
              "      <th>name</th>\n",
              "      <th>category</th>\n",
              "      <th>lat</th>\n",
              "      <th>lng</th>\n",
              "    </tr>\n",
              "  </thead>\n",
              "  <tbody>\n",
              "    <tr>\n",
              "      <th>0</th>\n",
              "      <td>5df931d140c87e00088f2223</td>\n",
              "      <td>Hotel Ritz</td>\n",
              "      <td>hotel</td>\n",
              "      <td>28.645359</td>\n",
              "      <td>77.216879</td>\n",
              "    </tr>\n",
              "    <tr>\n",
              "      <th>1</th>\n",
              "      <td>548a6de3498ecb54da9adac2</td>\n",
              "      <td>Burger King</td>\n",
              "      <td>fast food restaurant</td>\n",
              "      <td>28.632828</td>\n",
              "      <td>77.221326</td>\n",
              "    </tr>\n",
              "    <tr>\n",
              "      <th>2</th>\n",
              "      <td>52baa97011d25e5925f2a55a</td>\n",
              "      <td>Shiela Cinema</td>\n",
              "      <td>movie theater</td>\n",
              "      <td>28.644815</td>\n",
              "      <td>77.216908</td>\n",
              "    </tr>\n",
              "    <tr>\n",
              "      <th>3</th>\n",
              "      <td>4c16685f7fd00f47bf2efab6</td>\n",
              "      <td>New Delhi Railway Station (NDLS)</td>\n",
              "      <td>train station</td>\n",
              "      <td>28.642028</td>\n",
              "      <td>77.219625</td>\n",
              "    </tr>\n",
              "    <tr>\n",
              "      <th>4</th>\n",
              "      <td>54f84ede498eae1662c04df0</td>\n",
              "      <td>The Prime Balaji Deluxe @ New Delhi Railway St...</td>\n",
              "      <td>hotel</td>\n",
              "      <td>28.645247</td>\n",
              "      <td>77.217433</td>\n",
              "    </tr>\n",
              "  </tbody>\n",
              "</table>\n",
              "</div>"
            ],
            "text/plain": [
              "                         id  ...        lng\n",
              "0  5df931d140c87e00088f2223  ...  77.216879\n",
              "1  548a6de3498ecb54da9adac2  ...  77.221326\n",
              "2  52baa97011d25e5925f2a55a  ...  77.216908\n",
              "3  4c16685f7fd00f47bf2efab6  ...  77.219625\n",
              "4  54f84ede498eae1662c04df0  ...  77.217433\n",
              "\n",
              "[5 rows x 5 columns]"
            ]
          },
          "metadata": {
            "tags": []
          },
          "execution_count": 282
        }
      ]
    },
    {
      "cell_type": "markdown",
      "metadata": {
        "id": "nrcrAWlHCUZz",
        "colab_type": "text"
      },
      "source": [
        "## **Let's view in the follium map**"
      ]
    },
    {
      "cell_type": "code",
      "metadata": {
        "id": "uvG9Y6SKCem3",
        "colab_type": "code",
        "colab": {}
      },
      "source": [
        "coord=LAT_LNG.split(\",\")\n",
        "map = folium.Map(location=[float(coord[0]),float(coord[1])],tiles='OpenStreetMap')\n",
        "\n",
        "marker_cluster = MarkerCluster().add_to(map)\n",
        "for index,row in processed_df.iterrows():\n",
        "    folium.Marker([row[\"lat\"],row[\"lng\"]], popup=row[\"name\"]).add_to(marker_cluster)\n"
      ],
      "execution_count": 0,
      "outputs": []
    },
    {
      "cell_type": "code",
      "metadata": {
        "id": "c6DETk3tDqqa",
        "colab_type": "code",
        "colab": {
          "base_uri": "https://localhost:8080/",
          "height": 914
        },
        "outputId": "f3c3bd50-9faa-4c41-d154-a56c94ce4aca"
      },
      "source": [
        "map"
      ],
      "execution_count": 284,
      "outputs": [
        {
          "output_type": "execute_result",
          "data": {
            "text/html": [
              "<div style=\"width:100%;\"><div style=\"position:relative;width:100%;height:0;padding-bottom:60%;\"><iframe src=\"about:blank\" style=\"position:absolute;width:100%;height:100%;left:0;top:0;border:none !important;\" data-html=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 onload=\"this.contentDocument.open();this.contentDocument.write(atob(this.getAttribute('data-html')));this.contentDocument.close();\" allowfullscreen webkitallowfullscreen mozallowfullscreen></iframe></div></div>"
            ],
            "text/plain": [
              "<folium.folium.Map at 0x7fe25130b9b0>"
            ]
          },
          "metadata": {
            "tags": []
          },
          "execution_count": 284
        }
      ]
    },
    {
      "cell_type": "markdown",
      "metadata": {
        "id": "sdHBGUMwCfjU",
        "colab_type": "text"
      },
      "source": [
        "## **Group**  \n",
        "Now we need to group the data based on category "
      ]
    },
    {
      "cell_type": "code",
      "metadata": {
        "id": "EGN8ytWbIDAx",
        "colab_type": "code",
        "colab": {
          "base_uri": "https://localhost:8080/",
          "height": 265
        },
        "outputId": "f7074d78-ae7f-46d4-cae4-9370d928ad1f"
      },
      "source": [
        "processed_df.groupby('category').size().plot(kind='pie')"
      ],
      "execution_count": 285,
      "outputs": [
        {
          "output_type": "execute_result",
          "data": {
            "text/plain": [
              "<matplotlib.axes._subplots.AxesSubplot at 0x7fe2516642b0>"
            ]
          },
          "metadata": {
            "tags": []
          },
          "execution_count": 285
        },
        {
          "output_type": "display_data",
          "data": {
            "image/png": "[encoded data removed]",
            "text/plain": [
              "<Figure size 432x288 with 1 Axes>"
            ]
          },
          "metadata": {
            "tags": []
          }
        }
      ]
    },
    {
      "cell_type": "code",
      "metadata": {
        "id": "VhK4I5GjKeDI",
        "colab_type": "code",
        "colab": {
          "base_uri": "https://localhost:8080/",
          "height": 306
        },
        "outputId": "65bd7d6b-dcd0-4382-b3d2-5079a3eecb0b"
      },
      "source": [
        "processed_df.groupby('category').size().sort_values(ascending=False)"
      ],
      "execution_count": 286,
      "outputs": [
        {
          "output_type": "execute_result",
          "data": {
            "text/plain": [
              "category\n",
              "hotel                   10\n",
              "restaurant               3\n",
              "bed & breakfast          3\n",
              "indian restaurant        2\n",
              "coffee shop              2\n",
              "train station            1\n",
              "spa                      1\n",
              "snack place              1\n",
              "movie theater            1\n",
              "juice bar                1\n",
              "italian restaurant       1\n",
              "hostel                   1\n",
              "fast food restaurant     1\n",
              "department store         1\n",
              "bank                     1\n",
              "dtype: int64"
            ]
          },
          "metadata": {
            "tags": []
          },
          "execution_count": 286
        }
      ]
    },
    {
      "cell_type": "markdown",
      "metadata": {
        "id": "pTepxK__TiuX",
        "colab_type": "text"
      },
      "source": [
        "## **Label encoding of the category**"
      ]
    },
    {
      "cell_type": "code",
      "metadata": {
        "id": "VV8LIKV_TiSO",
        "colab_type": "code",
        "colab": {}
      },
      "source": [
        "le = LabelEncoder() \n",
        "processed_df['category']= le.fit_transform(processed_df['category']) "
      ],
      "execution_count": 0,
      "outputs": []
    },
    {
      "cell_type": "code",
      "metadata": {
        "id": "lZ5e5he1Ve8N",
        "colab_type": "code",
        "colab": {
          "base_uri": "https://localhost:8080/",
          "height": 204
        },
        "outputId": "ec7f1b8d-b931-49cc-8ce2-880e94d159c7"
      },
      "source": [
        "processed_df.head()"
      ],
      "execution_count": 288,
      "outputs": [
        {
          "output_type": "execute_result",
          "data": {
            "text/html": [
              "<div>\n",
              "<style scoped>\n",
              "    .dataframe tbody tr th:only-of-type {\n",
              "        vertical-align: middle;\n",
              "    }\n",
              "\n",
              "    .dataframe tbody tr th {\n",
              "        vertical-align: top;\n",
              "    }\n",
              "\n",
              "    .dataframe thead th {\n",
              "        text-align: right;\n",
              "    }\n",
              "</style>\n",
              "<table border=\"1\" class=\"dataframe\">\n",
              "  <thead>\n",
              "    <tr style=\"text-align: right;\">\n",
              "      <th></th>\n",
              "      <th>id</th>\n",
              "      <th>name</th>\n",
              "      <th>category</th>\n",
              "      <th>lat</th>\n",
              "      <th>lng</th>\n",
              "    </tr>\n",
              "  </thead>\n",
              "  <tbody>\n",
              "    <tr>\n",
              "      <th>0</th>\n",
              "      <td>5df931d140c87e00088f2223</td>\n",
              "      <td>Hotel Ritz</td>\n",
              "      <td>6</td>\n",
              "      <td>28.645359</td>\n",
              "      <td>77.216879</td>\n",
              "    </tr>\n",
              "    <tr>\n",
              "      <th>1</th>\n",
              "      <td>548a6de3498ecb54da9adac2</td>\n",
              "      <td>Burger King</td>\n",
              "      <td>4</td>\n",
              "      <td>28.632828</td>\n",
              "      <td>77.221326</td>\n",
              "    </tr>\n",
              "    <tr>\n",
              "      <th>2</th>\n",
              "      <td>52baa97011d25e5925f2a55a</td>\n",
              "      <td>Shiela Cinema</td>\n",
              "      <td>10</td>\n",
              "      <td>28.644815</td>\n",
              "      <td>77.216908</td>\n",
              "    </tr>\n",
              "    <tr>\n",
              "      <th>3</th>\n",
              "      <td>4c16685f7fd00f47bf2efab6</td>\n",
              "      <td>New Delhi Railway Station (NDLS)</td>\n",
              "      <td>14</td>\n",
              "      <td>28.642028</td>\n",
              "      <td>77.219625</td>\n",
              "    </tr>\n",
              "    <tr>\n",
              "      <th>4</th>\n",
              "      <td>54f84ede498eae1662c04df0</td>\n",
              "      <td>The Prime Balaji Deluxe @ New Delhi Railway St...</td>\n",
              "      <td>6</td>\n",
              "      <td>28.645247</td>\n",
              "      <td>77.217433</td>\n",
              "    </tr>\n",
              "  </tbody>\n",
              "</table>\n",
              "</div>"
            ],
            "text/plain": [
              "                         id  ...        lng\n",
              "0  5df931d140c87e00088f2223  ...  77.216879\n",
              "1  548a6de3498ecb54da9adac2  ...  77.221326\n",
              "2  52baa97011d25e5925f2a55a  ...  77.216908\n",
              "3  4c16685f7fd00f47bf2efab6  ...  77.219625\n",
              "4  54f84ede498eae1662c04df0  ...  77.217433\n",
              "\n",
              "[5 rows x 5 columns]"
            ]
          },
          "metadata": {
            "tags": []
          },
          "execution_count": 288
        }
      ]
    },
    {
      "cell_type": "markdown",
      "metadata": {
        "id": "VHUr4DHzmUzP",
        "colab_type": "text"
      },
      "source": [
        "**For the time being I have taken K =4 how ever we can use elbow method or find the number of unique regions and set the value of K accordingly**"
      ]
    },
    {
      "cell_type": "code",
      "metadata": {
        "id": "kliDCDy3aPyF",
        "colab_type": "code",
        "colab": {
          "base_uri": "https://localhost:8080/",
          "height": 734
        },
        "outputId": "879c29a6-ed75-4c97-ad2c-09f1a1a17c53"
      },
      "source": [
        "K=4\n",
        "kmeans = KMeans(n_clusters =K)\n",
        "df=processed_df[::]\n",
        "del df[\"id\"]\n",
        "del df[\"name\"]\n",
        "kmeans.fit(df)\n",
        "label_index=kmeans.labels_\n",
        "\n",
        "ptsymb = np.array(['b','r','m','g','c','k']);\n",
        "plt.figure(figsize=(12,12))\n",
        "plt.ylabel('Longitude', fontsize=12)\n",
        "plt.xlabel('Latitude', fontsize=12)\n",
        "for index,row in df.iterrows():\n",
        "    color=ptsymb[label_index[index]]\n",
        "    plt.plot(row[\"lat\"],row[\"lng\"],marker='o',color=color)\n",
        "plt.legend(numpoints=1)    \n",
        "plt.show()"
      ],
      "execution_count": 289,
      "outputs": [
        {
          "output_type": "stream",
          "text": [
            "No handles with labels found to put in legend.\n"
          ],
          "name": "stderr"
        },
        {
          "output_type": "display_data",
          "data": {
            "image/png": "[encoded data removed]",
            "text/plain": [
              "<Figure size 864x864 with 1 Axes>"
            ]
          },
          "metadata": {
            "tags": [],
            "needs_background": "light"
          }
        }
      ]
    },
    {
      "cell_type": "markdown",
      "metadata": {
        "id": "X1_puXIbUBb0",
        "colab_type": "text"
      },
      "source": [
        "## **Analyze each cluster and create a matrix**"
      ]
    },
    {
      "cell_type": "markdown",
      "metadata": {
        "id": "8ckyHRwvt6HT",
        "colab_type": "text"
      },
      "source": [
        "## **Measure it's skewness and get the best cluster**"
      ]
    },
    {
      "cell_type": "markdown",
      "metadata": {
        "id": "1kfXPbrouGdF",
        "colab_type": "text"
      },
      "source": [
        "## **Show the area in the follium map and using the hamming distance pin point the region centroid**"
      ]
    }
  ]
}