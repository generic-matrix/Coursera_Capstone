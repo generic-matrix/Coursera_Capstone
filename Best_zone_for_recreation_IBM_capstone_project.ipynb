{
  "nbformat": 4,
  "nbformat_minor": 0,
  "metadata": {
    "colab": {
      "name": "Best_zone_for_recreation_IBM_capstone_project.ipynb",
      "provenance": [],
      "collapsed_sections": []
    },
    "kernelspec": {
      "name": "python3",
      "display_name": "Python 3"
    }
  },
  "cells": [
    {
      "cell_type": "markdown",
      "metadata": {
        "id": "6yrpaXqOgP1E",
        "colab_type": "text"
      },
      "source": [
        "We **need to find the best zone for recreation in a city** .So the travellers get all the things they need nearby.\n",
        "\n",
        "We are besically using follium maps and clustering methods with decision trees with special focus on latency.\n"
      ]
    },
    {
      "cell_type": "code",
      "metadata": {
        "id": "qOmYW7QokVv9",
        "colab_type": "code",
        "colab": {}
      },
      "source": [
        "import requests\n",
        "import json\n",
        "import pandas as pd\n",
        "import folium\n",
        "from folium.plugins import MarkerCluster\n",
        "from sklearn.cluster import KMeans \n",
        "from sklearn.preprocessing import LabelEncoder\n",
        "from scipy.spatial.distance import cdist\n",
        "import numpy as np"
      ],
      "execution_count": 0,
      "outputs": []
    },
    {
      "cell_type": "markdown",
      "metadata": {
        "id": "jg3Jzpgaf3K2",
        "colab_type": "text"
      },
      "source": [
        " ## **Define your Foursquare credentials here**"
      ]
    },
    {
      "cell_type": "code",
      "metadata": {
        "id": "tNdSYZ4ika25",
        "colab_type": "code",
        "colab": {}
      },
      "source": [
        "CLIENT_ID=\"LIQI3OWFMIVHIADQEAFCHAT55AW5DSOJU4AIXTBYVFDKN04H\"\n",
        "CLIENT_SECRET=\"G4JDBVDY5MUQZBUW4WLSADMJBTWD3LRVUSU5ZXFJPJL1JQVX\"\n",
        "#Delhi\n",
        "LAT_LNG=\"28.644800,77.216721\""
      ],
      "execution_count": 0,
      "outputs": []
    },
    {
      "cell_type": "markdown",
      "metadata": {
        "id": "HIxdS44VhiGn",
        "colab_type": "text"
      },
      "source": [
        "## **To get venues**"
      ]
    },
    {
      "cell_type": "code",
      "metadata": {
        "id": "ZtMsuTxphhcG",
        "colab_type": "code",
        "colab": {}
      },
      "source": [
        "def get_venues(LAT_LNG,CLIENT_ID,CLIENT_SECRET):\n",
        "  res = requests.get(\"https://api.foursquare.com/v2/venues/search?ll=\"+LAT_LNG+\"&client_id=\"+CLIENT_ID+\"&client_secret=\"+CLIENT_SECRET+\"&v=20200510\")\n",
        "  if(res.status_code==200):\n",
        "    return res.content\n",
        "  else:\n",
        "    return None"
      ],
      "execution_count": 0,
      "outputs": []
    },
    {
      "cell_type": "markdown",
      "metadata": {
        "id": "5o5yMaOwn1eR",
        "colab_type": "text"
      },
      "source": [
        "## **Parse the data into JSON and convert it into the df**"
      ]
    },
    {
      "cell_type": "markdown",
      "metadata": {
        "id": "AHhyPqvhlIVA",
        "colab_type": "text"
      },
      "source": [
        "****"
      ]
    },
    {
      "cell_type": "code",
      "metadata": {
        "id": "z0XiWGHQf7s9",
        "colab_type": "code",
        "colab": {
          "base_uri": "https://localhost:8080/",
          "height": 204
        },
        "outputId": "35efbbb4-8508-4a36-e854-ddbd15bca99f"
      },
      "source": [
        "raw=get_venues(LAT_LNG,CLIENT_ID,CLIENT_SECRET)\n",
        "data=json.loads(raw)[\"response\"][\"venues\"]\n",
        "res_df=pd.read_json(json.dumps(data))\n",
        "res_df.head()"
      ],
      "execution_count": 485,
      "outputs": [
        {
          "output_type": "execute_result",
          "data": {
            "text/html": [
              "<div>\n",
              "<style scoped>\n",
              "    .dataframe tbody tr th:only-of-type {\n",
              "        vertical-align: middle;\n",
              "    }\n",
              "\n",
              "    .dataframe tbody tr th {\n",
              "        vertical-align: top;\n",
              "    }\n",
              "\n",
              "    .dataframe thead th {\n",
              "        text-align: right;\n",
              "    }\n",
              "</style>\n",
              "<table border=\"1\" class=\"dataframe\">\n",
              "  <thead>\n",
              "    <tr style=\"text-align: right;\">\n",
              "      <th></th>\n",
              "      <th>id</th>\n",
              "      <th>name</th>\n",
              "      <th>location</th>\n",
              "      <th>categories</th>\n",
              "      <th>referralId</th>\n",
              "      <th>hasPerk</th>\n",
              "      <th>venuePage</th>\n",
              "    </tr>\n",
              "  </thead>\n",
              "  <tbody>\n",
              "    <tr>\n",
              "      <th>0</th>\n",
              "      <td>5df931d140c87e00088f2223</td>\n",
              "      <td>Hotel Ritz</td>\n",
              "      <td>{'address': '8567 Arakashan Road, Paharganj Be...</td>\n",
              "      <td>[{'id': '4bf58dd8d48988d1fa931735', 'name': 'H...</td>\n",
              "      <td>v-1587044330</td>\n",
              "      <td>False</td>\n",
              "      <td>NaN</td>\n",
              "    </tr>\n",
              "    <tr>\n",
              "      <th>1</th>\n",
              "      <td>548a6de3498ecb54da9adac2</td>\n",
              "      <td>Burger King</td>\n",
              "      <td>{'address': 'E8 Inner Circle', 'crossStreet': ...</td>\n",
              "      <td>[{'id': '4bf58dd8d48988d16e941735', 'name': 'F...</td>\n",
              "      <td>v-1587044330</td>\n",
              "      <td>False</td>\n",
              "      <td>NaN</td>\n",
              "    </tr>\n",
              "    <tr>\n",
              "      <th>2</th>\n",
              "      <td>52baa97011d25e5925f2a55a</td>\n",
              "      <td>Shiela Cinema</td>\n",
              "      <td>{'lat': 28.644815157515968, 'lng': 77.21690750...</td>\n",
              "      <td>[{'id': '4bf58dd8d48988d17f941735', 'name': 'M...</td>\n",
              "      <td>v-1587044330</td>\n",
              "      <td>False</td>\n",
              "      <td>NaN</td>\n",
              "    </tr>\n",
              "    <tr>\n",
              "      <th>3</th>\n",
              "      <td>54f84ede498eae1662c04df0</td>\n",
              "      <td>The Prime Balaji Deluxe @ New Delhi Railway St...</td>\n",
              "      <td>{'address': '8574 Arakashan Road Pahar Ganj', ...</td>\n",
              "      <td>[{'id': '4bf58dd8d48988d1fa931735', 'name': 'H...</td>\n",
              "      <td>v-1587044330</td>\n",
              "      <td>False</td>\n",
              "      <td>NaN</td>\n",
              "    </tr>\n",
              "    <tr>\n",
              "      <th>4</th>\n",
              "      <td>4ea2ff0677c8d0ce5e2f034e</td>\n",
              "      <td>Vijaya Bank ATM</td>\n",
              "      <td>{'lat': 28.644741004025168, 'lng': 77.21800786...</td>\n",
              "      <td>[{'id': '4bf58dd8d48988d10a951735', 'name': 'B...</td>\n",
              "      <td>v-1587044330</td>\n",
              "      <td>False</td>\n",
              "      <td>NaN</td>\n",
              "    </tr>\n",
              "  </tbody>\n",
              "</table>\n",
              "</div>"
            ],
            "text/plain": [
              "                         id  ... venuePage\n",
              "0  5df931d140c87e00088f2223  ...       NaN\n",
              "1  548a6de3498ecb54da9adac2  ...       NaN\n",
              "2  52baa97011d25e5925f2a55a  ...       NaN\n",
              "3  54f84ede498eae1662c04df0  ...       NaN\n",
              "4  4ea2ff0677c8d0ce5e2f034e  ...       NaN\n",
              "\n",
              "[5 rows x 7 columns]"
            ]
          },
          "metadata": {
            "tags": []
          },
          "execution_count": 485
        }
      ]
    },
    {
      "cell_type": "markdown",
      "metadata": {
        "id": "6VbqmxCtr7TN",
        "colab_type": "text"
      },
      "source": [
        " ## **Get the df and we need 4 attribues for clustering**\n",
        "\n",
        "\n",
        "1.   id\n",
        "2.   type\n",
        "3.   lat\n",
        "4.   lng\n",
        "\n",
        "We will use res_df for mapping our needs with the loc."
      ]
    },
    {
      "cell_type": "code",
      "metadata": {
        "id": "kkGK_IlZr7vO",
        "colab_type": "code",
        "colab": {
          "base_uri": "https://localhost:8080/",
          "height": 204
        },
        "outputId": "f7d713c1-1d35-4d96-b370-00c65e6fc71c"
      },
      "source": [
        "def get_id_lat_lng_type(base_df):\n",
        "  arr=[]\n",
        "  for index,row in base_df.iterrows():\n",
        "    group_df=row\n",
        "    if(len(group_df[\"categories\"])>0):\n",
        "      category=group_df[\"categories\"][0][\"name\"].lower()\n",
        "      id=group_df[\"id\"]\n",
        "      lat=group_df[\"location\"][\"lat\"]\n",
        "      lng=group_df[\"location\"][\"lng\"]\n",
        "      name=group_df[\"name\"]\n",
        "      arr.append({'id':id,\"name\":name,'category':category,'lat':lat,'lng':lng})\n",
        "  df=pd.read_json(json.dumps(arr))\n",
        "  return df\n",
        "processed_df=get_id_lat_lng_type(res_df)\n",
        "processed_df.head()"
      ],
      "execution_count": 486,
      "outputs": [
        {
          "output_type": "execute_result",
          "data": {
            "text/html": [
              "<div>\n",
              "<style scoped>\n",
              "    .dataframe tbody tr th:only-of-type {\n",
              "        vertical-align: middle;\n",
              "    }\n",
              "\n",
              "    .dataframe tbody tr th {\n",
              "        vertical-align: top;\n",
              "    }\n",
              "\n",
              "    .dataframe thead th {\n",
              "        text-align: right;\n",
              "    }\n",
              "</style>\n",
              "<table border=\"1\" class=\"dataframe\">\n",
              "  <thead>\n",
              "    <tr style=\"text-align: right;\">\n",
              "      <th></th>\n",
              "      <th>id</th>\n",
              "      <th>name</th>\n",
              "      <th>category</th>\n",
              "      <th>lat</th>\n",
              "      <th>lng</th>\n",
              "    </tr>\n",
              "  </thead>\n",
              "  <tbody>\n",
              "    <tr>\n",
              "      <th>0</th>\n",
              "      <td>5df931d140c87e00088f2223</td>\n",
              "      <td>Hotel Ritz</td>\n",
              "      <td>hotel</td>\n",
              "      <td>28.645359</td>\n",
              "      <td>77.216879</td>\n",
              "    </tr>\n",
              "    <tr>\n",
              "      <th>1</th>\n",
              "      <td>548a6de3498ecb54da9adac2</td>\n",
              "      <td>Burger King</td>\n",
              "      <td>fast food restaurant</td>\n",
              "      <td>28.632828</td>\n",
              "      <td>77.221326</td>\n",
              "    </tr>\n",
              "    <tr>\n",
              "      <th>2</th>\n",
              "      <td>52baa97011d25e5925f2a55a</td>\n",
              "      <td>Shiela Cinema</td>\n",
              "      <td>movie theater</td>\n",
              "      <td>28.644815</td>\n",
              "      <td>77.216908</td>\n",
              "    </tr>\n",
              "    <tr>\n",
              "      <th>3</th>\n",
              "      <td>54f84ede498eae1662c04df0</td>\n",
              "      <td>The Prime Balaji Deluxe @ New Delhi Railway St...</td>\n",
              "      <td>hotel</td>\n",
              "      <td>28.645247</td>\n",
              "      <td>77.217433</td>\n",
              "    </tr>\n",
              "    <tr>\n",
              "      <th>4</th>\n",
              "      <td>4ea2ff0677c8d0ce5e2f034e</td>\n",
              "      <td>Vijaya Bank ATM</td>\n",
              "      <td>bank</td>\n",
              "      <td>28.644741</td>\n",
              "      <td>77.218008</td>\n",
              "    </tr>\n",
              "  </tbody>\n",
              "</table>\n",
              "</div>"
            ],
            "text/plain": [
              "                         id  ...        lng\n",
              "0  5df931d140c87e00088f2223  ...  77.216879\n",
              "1  548a6de3498ecb54da9adac2  ...  77.221326\n",
              "2  52baa97011d25e5925f2a55a  ...  77.216908\n",
              "3  54f84ede498eae1662c04df0  ...  77.217433\n",
              "4  4ea2ff0677c8d0ce5e2f034e  ...  77.218008\n",
              "\n",
              "[5 rows x 5 columns]"
            ]
          },
          "metadata": {
            "tags": []
          },
          "execution_count": 486
        }
      ]
    },
    {
      "cell_type": "markdown",
      "metadata": {
        "id": "nrcrAWlHCUZz",
        "colab_type": "text"
      },
      "source": [
        "## **Let's view in the follium map**"
      ]
    },
    {
      "cell_type": "code",
      "metadata": {
        "id": "uvG9Y6SKCem3",
        "colab_type": "code",
        "colab": {}
      },
      "source": [
        "coord=LAT_LNG.split(\",\")\n",
        "map = folium.Map(location=[float(coord[0]),float(coord[1])],tiles='OpenStreetMap')\n",
        "\n",
        "marker_cluster = MarkerCluster().add_to(map)\n",
        "for index,row in processed_df.iterrows():\n",
        "    folium.Marker([row[\"lat\"],row[\"lng\"]], popup=row[\"name\"]).add_to(marker_cluster)\n"
      ],
      "execution_count": 0,
      "outputs": []
    },
    {
      "cell_type": "code",
      "metadata": {
        "id": "c6DETk3tDqqa",
        "colab_type": "code",
        "colab": {
          "base_uri": "https://localhost:8080/",
          "height": 1000
        },
        "outputId": "9d282166-2c62-462f-dc2a-52cf7961b8df"
      },
      "source": [
        "map"
      ],
      "execution_count": 488,
      "outputs": [
        {
          "output_type": "execute_result",
          "data": {
            "text/html": [
              "<div style=\"width:100%;\"><div style=\"position:relative;width:100%;height:0;padding-bottom:60%;\"><iframe src=\"about:blank\" style=\"position:absolute;width:100%;height:100%;left:0;top:0;border:none !important;\" data-html=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 onload=\"this.contentDocument.open();this.contentDocument.write(atob(this.getAttribute('data-html')));this.contentDocument.close();\" allowfullscreen webkitallowfullscreen mozallowfullscreen></iframe></div></div>"
            ],
            "text/plain": [
              "<folium.folium.Map at 0x7fe24ec52160>"
            ]
          },
          "metadata": {
            "tags": []
          },
          "execution_count": 488
        }
      ]
    },
    {
      "cell_type": "markdown",
      "metadata": {
        "id": "sdHBGUMwCfjU",
        "colab_type": "text"
      },
      "source": [
        "## **Group**  \n",
        "Now we need to group the data based on category "
      ]
    },
    {
      "cell_type": "code",
      "metadata": {
        "id": "EGN8ytWbIDAx",
        "colab_type": "code",
        "colab": {
          "base_uri": "https://localhost:8080/",
          "height": 265
        },
        "outputId": "552caa15-891e-4692-a970-69c33b29c84a"
      },
      "source": [
        "processed_df.groupby('category').size().plot(kind='pie')"
      ],
      "execution_count": 489,
      "outputs": [
        {
          "output_type": "execute_result",
          "data": {
            "text/plain": [
              "<matplotlib.axes._subplots.AxesSubplot at 0x7fe24e6b0b38>"
            ]
          },
          "metadata": {
            "tags": []
          },
          "execution_count": 489
        },
        {
          "output_type": "display_data",
          "data": {
            "image/png": "[encoded data removed]",
            "text/plain": [
              "<Figure size 432x288 with 1 Axes>"
            ]
          },
          "metadata": {
            "tags": []
          }
        }
      ]
    },
    {
      "cell_type": "code",
      "metadata": {
        "id": "VhK4I5GjKeDI",
        "colab_type": "code",
        "colab": {
          "base_uri": "https://localhost:8080/",
          "height": 323
        },
        "outputId": "0c21d927-cc86-422a-9dcf-073cbb6fb368"
      },
      "source": [
        "processed_df.groupby('category').size().sort_values(ascending=False)"
      ],
      "execution_count": 490,
      "outputs": [
        {
          "output_type": "execute_result",
          "data": {
            "text/plain": [
              "category\n",
              "hotel                   9\n",
              "restaurant              3\n",
              "bed & breakfast         3\n",
              "indian restaurant       2\n",
              "coffee shop             2\n",
              "train station           1\n",
              "spa                     1\n",
              "snack place             1\n",
              "movie theater           1\n",
              "juice bar               1\n",
              "italian restaurant      1\n",
              "hostel                  1\n",
              "fast food restaurant    1\n",
              "department store        1\n",
              "café                    1\n",
              "bank                    1\n",
              "dtype: int64"
            ]
          },
          "metadata": {
            "tags": []
          },
          "execution_count": 490
        }
      ]
    },
    {
      "cell_type": "markdown",
      "metadata": {
        "id": "pTepxK__TiuX",
        "colab_type": "text"
      },
      "source": [
        "## **Label encoding of the category**"
      ]
    },
    {
      "cell_type": "code",
      "metadata": {
        "id": "VV8LIKV_TiSO",
        "colab_type": "code",
        "colab": {}
      },
      "source": [
        "le = LabelEncoder() \n",
        "processed_df['category']= le.fit_transform(processed_df['category']) "
      ],
      "execution_count": 0,
      "outputs": []
    },
    {
      "cell_type": "code",
      "metadata": {
        "id": "lZ5e5he1Ve8N",
        "colab_type": "code",
        "colab": {
          "base_uri": "https://localhost:8080/",
          "height": 204
        },
        "outputId": "79ace333-8a61-4517-b574-50a229b11a49"
      },
      "source": [
        "processed_df.head()"
      ],
      "execution_count": 492,
      "outputs": [
        {
          "output_type": "execute_result",
          "data": {
            "text/html": [
              "<div>\n",
              "<style scoped>\n",
              "    .dataframe tbody tr th:only-of-type {\n",
              "        vertical-align: middle;\n",
              "    }\n",
              "\n",
              "    .dataframe tbody tr th {\n",
              "        vertical-align: top;\n",
              "    }\n",
              "\n",
              "    .dataframe thead th {\n",
              "        text-align: right;\n",
              "    }\n",
              "</style>\n",
              "<table border=\"1\" class=\"dataframe\">\n",
              "  <thead>\n",
              "    <tr style=\"text-align: right;\">\n",
              "      <th></th>\n",
              "      <th>id</th>\n",
              "      <th>name</th>\n",
              "      <th>category</th>\n",
              "      <th>lat</th>\n",
              "      <th>lng</th>\n",
              "    </tr>\n",
              "  </thead>\n",
              "  <tbody>\n",
              "    <tr>\n",
              "      <th>0</th>\n",
              "      <td>5df931d140c87e00088f2223</td>\n",
              "      <td>Hotel Ritz</td>\n",
              "      <td>7</td>\n",
              "      <td>28.645359</td>\n",
              "      <td>77.216879</td>\n",
              "    </tr>\n",
              "    <tr>\n",
              "      <th>1</th>\n",
              "      <td>548a6de3498ecb54da9adac2</td>\n",
              "      <td>Burger King</td>\n",
              "      <td>5</td>\n",
              "      <td>28.632828</td>\n",
              "      <td>77.221326</td>\n",
              "    </tr>\n",
              "    <tr>\n",
              "      <th>2</th>\n",
              "      <td>52baa97011d25e5925f2a55a</td>\n",
              "      <td>Shiela Cinema</td>\n",
              "      <td>11</td>\n",
              "      <td>28.644815</td>\n",
              "      <td>77.216908</td>\n",
              "    </tr>\n",
              "    <tr>\n",
              "      <th>3</th>\n",
              "      <td>54f84ede498eae1662c04df0</td>\n",
              "      <td>The Prime Balaji Deluxe @ New Delhi Railway St...</td>\n",
              "      <td>7</td>\n",
              "      <td>28.645247</td>\n",
              "      <td>77.217433</td>\n",
              "    </tr>\n",
              "    <tr>\n",
              "      <th>4</th>\n",
              "      <td>4ea2ff0677c8d0ce5e2f034e</td>\n",
              "      <td>Vijaya Bank ATM</td>\n",
              "      <td>0</td>\n",
              "      <td>28.644741</td>\n",
              "      <td>77.218008</td>\n",
              "    </tr>\n",
              "  </tbody>\n",
              "</table>\n",
              "</div>"
            ],
            "text/plain": [
              "                         id  ...        lng\n",
              "0  5df931d140c87e00088f2223  ...  77.216879\n",
              "1  548a6de3498ecb54da9adac2  ...  77.221326\n",
              "2  52baa97011d25e5925f2a55a  ...  77.216908\n",
              "3  54f84ede498eae1662c04df0  ...  77.217433\n",
              "4  4ea2ff0677c8d0ce5e2f034e  ...  77.218008\n",
              "\n",
              "[5 rows x 5 columns]"
            ]
          },
          "metadata": {
            "tags": []
          },
          "execution_count": 492
        }
      ]
    },
    {
      "cell_type": "markdown",
      "metadata": {
        "id": "VHUr4DHzmUzP",
        "colab_type": "text"
      },
      "source": [
        "**For the time being I have taken K =4 how ever we can use elbow method or find the number of unique regions and set the value of K accordingly**"
      ]
    },
    {
      "cell_type": "code",
      "metadata": {
        "id": "kliDCDy3aPyF",
        "colab_type": "code",
        "colab": {
          "base_uri": "https://localhost:8080/",
          "height": 734
        },
        "outputId": "5f2efe71-e056-4395-bca5-299101e8407c"
      },
      "source": [
        "K=3\n",
        "kmeans = KMeans(n_clusters =K)\n",
        "df=processed_df[::]\n",
        "del df[\"id\"]\n",
        "del df[\"name\"]\n",
        "kmeans.fit(df)\n",
        "label_index=kmeans.labels_\n",
        "\n",
        "ptsymb = np.array(['b','r','m','g','c','k']);\n",
        "plt.figure(figsize=(12,12))\n",
        "plt.ylabel('Longitude', fontsize=12)\n",
        "plt.xlabel('Latitude', fontsize=12)\n",
        "for index,row in df.iterrows():\n",
        "    color=ptsymb[label_index[index]]\n",
        "    plt.plot(row[\"lat\"],row[\"lng\"],marker='o',color=color)\n",
        "plt.legend(numpoints=1)    \n",
        "plt.show()"
      ],
      "execution_count": 493,
      "outputs": [
        {
          "output_type": "stream",
          "text": [
            "No handles with labels found to put in legend.\n"
          ],
          "name": "stderr"
        },
        {
          "output_type": "display_data",
          "data": {
            "image/png": "[encoded data removed]",
            "text/plain": [
              "<Figure size 864x864 with 1 Axes>"
            ]
          },
          "metadata": {
            "tags": [],
            "needs_background": "light"
          }
        }
      ]
    },
    {
      "cell_type": "markdown",
      "metadata": {
        "id": "X1_puXIbUBb0",
        "colab_type": "text"
      },
      "source": [
        "## **Analyze each cluster and create a matrix**\n",
        "The y axis is the k value ( groups)  \n",
        "The x axis is the services count "
      ]
    },
    {
      "cell_type": "code",
      "metadata": {
        "id": "ZdZgRohZ3ePr",
        "colab_type": "code",
        "colab": {
          "base_uri": "https://localhost:8080/",
          "height": 85
        },
        "outputId": "649cdeca-e1e5-47ba-884b-9a046aa54ff7"
      },
      "source": [
        "matrix={}\n",
        "for index in label_index:\n",
        "  matrix[str(index)]=[0]*len(le.classes_)\n",
        "for index,row in processed_df.iterrows():\n",
        "  group=str(label_index[index])\n",
        "  key=row[\"category\"]\n",
        "  matrix[group][key]=matrix[group][key]+1\n",
        "mat=pd.read_json(json.dumps(matrix))\n",
        "mat=mat.transpose()\n",
        "print(mat)"
      ],
      "execution_count": 494,
      "outputs": [
        {
          "output_type": "stream",
          "text": [
            "   0  1  2  3  4  5  6  7  8  9  10  11  12  13  14  15\n",
            "1  0  0  0  0  0  1  1  9  2  1   0   0   0   0   0   0\n",
            "2  0  0  0  0  0  0  0  0  0  0   1   1   3   1   1   1\n",
            "0  1  3  1  2  1  0  0  0  0  0   0   0   0   0   0   0\n"
          ],
          "name": "stdout"
        }
      ]
    },
    {
      "cell_type": "code",
      "metadata": {
        "id": "SxmVL2PM5Ru5",
        "colab_type": "code",
        "colab": {
          "base_uri": "https://localhost:8080/",
          "height": 85
        },
        "outputId": "caf28869-09ef-449f-8b23-d848c5a3692d"
      },
      "source": [
        "print(le.classes_)"
      ],
      "execution_count": 495,
      "outputs": [
        {
          "output_type": "stream",
          "text": [
            "['bank' 'bed & breakfast' 'café' 'coffee shop' 'department store'\n",
            " 'fast food restaurant' 'hostel' 'hotel' 'indian restaurant'\n",
            " 'italian restaurant' 'juice bar' 'movie theater' 'restaurant'\n",
            " 'snack place' 'spa' 'train station']\n"
          ],
          "name": "stdout"
        }
      ]
    },
    {
      "cell_type": "markdown",
      "metadata": {
        "id": "8ckyHRwvt6HT",
        "colab_type": "text"
      },
      "source": [
        "## **Measure it's skewness and get the best cluster**"
      ]
    },
    {
      "cell_type": "code",
      "metadata": {
        "id": "XeJBG74sBFcJ",
        "colab_type": "code",
        "colab": {
          "base_uri": "https://localhost:8080/",
          "height": 85
        },
        "outputId": "4b17c219-a05d-4206-86b1-c8e563ab8b36"
      },
      "source": [
        "result=mat.skew(axis = 1).sort_values(ascending = True)\n",
        "print(result)"
      ],
      "execution_count": 496,
      "outputs": [
        {
          "output_type": "stream",
          "text": [
            "0    1.916630\n",
            "2    2.099563\n",
            "1    3.561212\n",
            "dtype: float64\n"
          ],
          "name": "stdout"
        }
      ]
    },
    {
      "cell_type": "code",
      "metadata": {
        "id": "D6P6txsqHjqm",
        "colab_type": "code",
        "colab": {
          "base_uri": "https://localhost:8080/",
          "height": 34
        },
        "outputId": "66a3adc6-9661-4d5c-c159-39004a1938e7"
      },
      "source": [
        "data=json.loads(result.to_json())\n",
        "best_cluster=None\n",
        "for key,value in enumerate(data):\n",
        "  best_cluster=int(value)\n",
        "  break\n",
        "print(\"Best cluser is in index at \"+str(best_cluster))"
      ],
      "execution_count": 497,
      "outputs": [
        {
          "output_type": "stream",
          "text": [
            "Best cluser is in index at 0\n"
          ],
          "name": "stdout"
        }
      ]
    },
    {
      "cell_type": "markdown",
      "metadata": {
        "id": "1kfXPbrouGdF",
        "colab_type": "text"
      },
      "source": [
        "## **Show the area in the follium map**"
      ]
    },
    {
      "cell_type": "code",
      "metadata": {
        "id": "w40kVyGtJbmz",
        "colab_type": "code",
        "colab": {}
      },
      "source": [
        "#get the regions from the processed_df\n",
        "coord=LAT_LNG.split(\",\")\n",
        "map2 = folium.Map(location=[float(coord[0]),float(coord[1])],tiles='OpenStreetMap')\n",
        "\n",
        "marker_cluster = MarkerCluster().add_to(map2)\n",
        "    \n",
        "for index,row in processed_df.iterrows():\n",
        "  group=label_index[index]\n",
        "  if(group==best_cluster):\n",
        "    #display it on the map.\n",
        "    folium.Marker([row[\"lat\"],row[\"lng\"]], popup=row[\"name\"]).add_to(marker_cluster)"
      ],
      "execution_count": 0,
      "outputs": []
    },
    {
      "cell_type": "markdown",
      "metadata": {
        "id": "IEAIzb8mLh1m",
        "colab_type": "text"
      },
      "source": [
        "*Suggested area is shown on the map ,so you can book your stay nearby this location to leverage the best the city can give you*  \n",
        "The markes shown here are the diffrent types of recreational spots."
      ]
    },
    {
      "cell_type": "code",
      "metadata": {
        "id": "Tog2Egb7LGIE",
        "colab_type": "code",
        "colab": {
          "base_uri": "https://localhost:8080/",
          "height": 1000
        },
        "outputId": "364c42ca-ab78-4abe-9a38-14906885541c"
      },
      "source": [
        "map2"
      ],
      "execution_count": 499,
      "outputs": [
        {
          "output_type": "execute_result",
          "data": {
            "text/html": [
              "<div style=\"width:100%;\"><div style=\"position:relative;width:100%;height:0;padding-bottom:60%;\"><iframe src=\"about:blank\" style=\"position:absolute;width:100%;height:100%;left:0;top:0;border:none !important;\" data-html=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 onload=\"this.contentDocument.open();this.contentDocument.write(atob(this.getAttribute('data-html')));this.contentDocument.close();\" allowfullscreen webkitallowfullscreen mozallowfullscreen></iframe></div></div>"
            ],
            "text/plain": [
              "<folium.folium.Map at 0x7fe24e8005f8>"
            ]
          },
          "metadata": {
            "tags": []
          },
          "execution_count": 499
        }
      ]
    }
  ]
}